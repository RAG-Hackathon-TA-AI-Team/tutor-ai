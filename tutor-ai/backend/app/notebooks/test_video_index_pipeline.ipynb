{
 "cells": [
  {
   "cell_type": "code",
   "execution_count": 1,
   "id": "initial_id",
   "metadata": {
    "collapsed": true,
    "ExecuteTime": {
     "end_time": "2024-02-04T23:18:54.433844Z",
     "start_time": "2024-02-04T23:18:53.549180Z"
    }
   },
   "outputs": [],
   "source": [
    "import os\n",
    "\n",
    "from llama_index.vector_stores import AstraDBVectorStore\n",
    "from llama_index import (\n",
    "    VectorStoreIndex,\n",
    "    SimpleDirectoryReader,\n",
    "    StorageContext,\n",
    "    Document,\n",
    ")\n",
    "from llama_index.llama_dataset import download_llama_dataset\n",
    "from dotenv import load_dotenv, find_dotenv"
   ]
  },
  {
   "cell_type": "code",
   "execution_count": 2,
   "outputs": [
    {
     "data": {
      "text/plain": "True"
     },
     "execution_count": 2,
     "metadata": {},
     "output_type": "execute_result"
    }
   ],
   "source": [
    "load_dotenv(find_dotenv())"
   ],
   "metadata": {
    "collapsed": false,
    "ExecuteTime": {
     "end_time": "2024-02-04T23:18:54.439233Z",
     "start_time": "2024-02-04T23:18:54.434084Z"
    }
   },
   "id": "7254225cb4de0bc5"
  },
  {
   "cell_type": "code",
   "execution_count": 4,
   "outputs": [],
   "source": [
    "from app.engine.loader import get_documents\n",
    "\n",
    "docs = get_documents(\"../../videos\")"
   ],
   "metadata": {
    "collapsed": false,
    "ExecuteTime": {
     "end_time": "2024-02-04T23:19:08.416267Z",
     "start_time": "2024-02-04T23:19:08.411372Z"
    }
   },
   "id": "55d3af0ae0b6073c"
  },
  {
   "cell_type": "code",
   "execution_count": 5,
   "outputs": [
    {
     "data": {
      "text/plain": "26"
     },
     "execution_count": 5,
     "metadata": {},
     "output_type": "execute_result"
    }
   ],
   "source": [
    "len(docs)"
   ],
   "metadata": {
    "collapsed": false,
    "ExecuteTime": {
     "end_time": "2024-02-04T23:19:08.642652Z",
     "start_time": "2024-02-04T23:19:08.637093Z"
    }
   },
   "id": "81b7849a50f37c77"
  },
  {
   "cell_type": "markdown",
   "source": [],
   "metadata": {
    "collapsed": false
   },
   "id": "5883ca0a90e85345"
  },
  {
   "cell_type": "code",
   "execution_count": 6,
   "outputs": [],
   "source": [
    "from app.engine.context import create_service_context, create_storage_context\n",
    "\n",
    "service_context = create_service_context()  \n",
    "storage_context = create_storage_context()"
   ],
   "metadata": {
    "collapsed": false,
    "ExecuteTime": {
     "end_time": "2024-02-04T23:19:11.570981Z",
     "start_time": "2024-02-04T23:19:09.240612Z"
    }
   },
   "id": "87f0fcfc4d46f96b"
  },
  {
   "cell_type": "code",
   "execution_count": 7,
   "outputs": [],
   "source": [
    "index = VectorStoreIndex.from_documents(\n",
    "    documents=docs,\n",
    "    service_context=service_context,\n",
    "    storage_context=storage_context,\n",
    ")"
   ],
   "metadata": {
    "collapsed": false,
    "ExecuteTime": {
     "end_time": "2024-02-04T23:19:17.729020Z",
     "start_time": "2024-02-04T23:19:12.845543Z"
    }
   },
   "id": "88ad8c862a4f8ae3"
  },
  {
   "cell_type": "code",
   "execution_count": 16,
   "outputs": [],
   "source": [
    "engine = index.as_chat_engine(similarity_top_k=5, chat_mode=\"condense_plus_context\")\n",
    "result = engine.chat(\"how to take photo with good exposure\")"
   ],
   "metadata": {
    "collapsed": false,
    "ExecuteTime": {
     "end_time": "2024-02-04T23:27:37.155511Z",
     "start_time": "2024-02-04T23:27:16.844151Z"
    }
   },
   "id": "db81af21528fce3"
  },
  {
   "cell_type": "code",
   "execution_count": 17,
   "outputs": [
    {
     "data": {
      "text/plain": "[NodeWithScore(node=TextNode(id_='9e75c3e5-7f0c-4a90-9ccd-ec75742e7063', embedding=None, metadata={'type': 'transcript', 'video_path': 'app/videoData/y7HrM-fk_Rc_3240_3420.mp4', 'start_time': 3240, 'end_time': 3420, 'text': \"for now just think about it as light per unit area falling on the sensor it's controlled by the aperture talk about that in a moment and then exposure time is seconds controlled by the shutter so those are two the two critical variables for controlling the exposure of your picture so if we look back at our single end reflex camera there is a mirror in there and you saw when I took a picture the mirror flipped out of the way the light went to the film which is now replaced by a digital sensor and then there is this aperture here which can close and open that's that's where the app numbers come from which will define a moment they're typically right in the middle of a bunch of lenses that are kind of symmetrical on both sides we'll talk about that next week and then there's a shutter and\"}, excluded_embed_metadata_keys=['type', 'video_path', 'start_time', 'end_time', 'frames', 'text'], excluded_llm_metadata_keys=[], relationships={}, text=\"for now just think about it as light per unit area falling on the sensor it's controlled by the aperture talk about that in a moment and then exposure time is seconds controlled by the shutter so those are two the two critical variables for controlling the exposure of your picture so if we look back at our single end reflex camera there is a mirror in there and you saw when I took a picture the mirror flipped out of the way the light went to the film which is now replaced by a digital sensor and then there is this aperture here which can close and open that's that's where the app numbers come from which will define a moment they're typically right in the middle of a bunch of lenses that are kind of symmetrical on both sides we'll talk about that next week and then there's a shutter and\", start_char_idx=None, end_char_idx=None, text_template='{metadata_str}\\n\\n{content}', metadata_template='{key}: {value}', metadata_seperator='\\n'), score=0.73363173),\n NodeWithScore(node=TextNode(id_='9f6d9a05-4d11-43c6-9563-74dc90f2fa43', embedding=None, metadata={'type': 'transcript', 'video_path': 'app/videoData/y7HrM-fk_Rc_3420_3600.mp4', 'start_time': 3420, 'end_time': 3600, 'text': \"exposure ready Oh No let me try turning on the mic ready huh now that sounded kind of weird it did like several things there it's really quite complicated in these mirrorless interchangeable-lens cameras because right now the shutter is open why well because the light has to reach the sensor so you can see something on the viewfinder because there's no optical viewfinder as there is on these things there's no bump on the top so when you press the shutter first have to close that get ready to take a picture\"}, excluded_embed_metadata_keys=['type', 'video_path', 'start_time', 'end_time', 'frames', 'text'], excluded_llm_metadata_keys=[], relationships={}, text=\"exposure ready Oh No let me try turning on the mic ready huh now that sounded kind of weird it did like several things there it's really quite complicated in these mirrorless interchangeable-lens cameras because right now the shutter is open why well because the light has to reach the sensor so you can see something on the viewfinder because there's no optical viewfinder as there is on these things there's no bump on the top so when you press the shutter first have to close that get ready to take a picture\", start_char_idx=None, end_char_idx=None, text_template='{metadata_str}\\n\\n{content}', metadata_template='{key}: {value}', metadata_seperator='\\n'), score=0.73280996)]"
     },
     "execution_count": 17,
     "metadata": {},
     "output_type": "execute_result"
    }
   ],
   "source": [
    "result.source_nodes"
   ],
   "metadata": {
    "collapsed": false,
    "ExecuteTime": {
     "end_time": "2024-02-04T23:27:37.162935Z",
     "start_time": "2024-02-04T23:27:37.157637Z"
    }
   },
   "id": "5388376306b7d299"
  },
  {
   "cell_type": "code",
   "execution_count": 3,
   "outputs": [
    {
     "ename": "Exception",
     "evalue": "StorageContext is empty - call 'python app/engine/generate.py' to generate the storage first",
     "output_type": "error",
     "traceback": [
      "\u001B[0;31m---------------------------------------------------------------------------\u001B[0m",
      "\u001B[0;31mException\u001B[0m                                 Traceback (most recent call last)",
      "Cell \u001B[0;32mIn[3], line 3\u001B[0m\n\u001B[1;32m      1\u001B[0m \u001B[38;5;28;01mfrom\u001B[39;00m \u001B[38;5;21;01mapp\u001B[39;00m\u001B[38;5;21;01m.\u001B[39;00m\u001B[38;5;21;01mengine\u001B[39;00m\u001B[38;5;21;01m.\u001B[39;00m\u001B[38;5;21;01mindex\u001B[39;00m \u001B[38;5;28;01mimport\u001B[39;00m get_chat_engine\n\u001B[0;32m----> 3\u001B[0m engine \u001B[38;5;241m=\u001B[39m \u001B[43mget_chat_engine\u001B[49m\u001B[43m(\u001B[49m\u001B[43m)\u001B[49m\n",
      "File \u001B[0;32m~/Documents/GitHub/tutor-ai/tutor-ai/backend/app/engine/index.py:19\u001B[0m, in \u001B[0;36mget_chat_engine\u001B[0;34m()\u001B[0m\n\u001B[1;32m     17\u001B[0m \u001B[38;5;66;03m# check if storage already exists\u001B[39;00m\n\u001B[1;32m     18\u001B[0m \u001B[38;5;28;01mif\u001B[39;00m \u001B[38;5;129;01mnot\u001B[39;00m os\u001B[38;5;241m.\u001B[39mpath\u001B[38;5;241m.\u001B[39mexists(STORAGE_DIR):\n\u001B[0;32m---> 19\u001B[0m     \u001B[38;5;28;01mraise\u001B[39;00m \u001B[38;5;167;01mException\u001B[39;00m(\n\u001B[1;32m     20\u001B[0m         \u001B[38;5;124m\"\u001B[39m\u001B[38;5;124mStorageContext is empty - call \u001B[39m\u001B[38;5;124m'\u001B[39m\u001B[38;5;124mpython app/engine/generate.py\u001B[39m\u001B[38;5;124m'\u001B[39m\u001B[38;5;124m to generate the storage first\u001B[39m\u001B[38;5;124m\"\u001B[39m\n\u001B[1;32m     21\u001B[0m     )\n\u001B[1;32m     22\u001B[0m logger \u001B[38;5;241m=\u001B[39m logging\u001B[38;5;241m.\u001B[39mgetLogger(\u001B[38;5;124m\"\u001B[39m\u001B[38;5;124muvicorn\u001B[39m\u001B[38;5;124m\"\u001B[39m)\n\u001B[1;32m     23\u001B[0m \u001B[38;5;66;03m# load the existing index\u001B[39;00m\n",
      "\u001B[0;31mException\u001B[0m: StorageContext is empty - call 'python app/engine/generate.py' to generate the storage first"
     ]
    }
   ],
   "source": [
    "from app.engine.index import get_chat_engine\n",
    "\n",
    "engine = get_chat_engine()"
   ],
   "metadata": {
    "collapsed": false,
    "ExecuteTime": {
     "end_time": "2024-02-04T23:18:58.805465Z",
     "start_time": "2024-02-04T23:18:57.635032Z"
    }
   },
   "id": "f3a9fea1b94a649f"
  },
  {
   "cell_type": "code",
   "execution_count": null,
   "outputs": [],
   "source": [
    "engine"
   ],
   "metadata": {
    "collapsed": false,
    "ExecuteTime": {
     "start_time": "2024-02-04T23:11:29.752176Z"
    }
   },
   "id": "427b2873653bc34a"
  },
  {
   "cell_type": "code",
   "execution_count": null,
   "outputs": [],
   "source": [],
   "metadata": {
    "collapsed": false
   },
   "id": "2f3a7845a9427e74"
  }
 ],
 "metadata": {
  "kernelspec": {
   "display_name": "Python 3",
   "language": "python",
   "name": "python3"
  },
  "language_info": {
   "codemirror_mode": {
    "name": "ipython",
    "version": 2
   },
   "file_extension": ".py",
   "mimetype": "text/x-python",
   "name": "python",
   "nbconvert_exporter": "python",
   "pygments_lexer": "ipython2",
   "version": "2.7.6"
  }
 },
 "nbformat": 4,
 "nbformat_minor": 5
}
