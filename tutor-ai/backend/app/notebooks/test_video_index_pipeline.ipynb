{
 "cells": [
  {
   "cell_type": "code",
   "execution_count": 7,
   "id": "initial_id",
   "metadata": {
    "collapsed": true,
    "ExecuteTime": {
     "end_time": "2024-02-04T14:22:15.149869Z",
     "start_time": "2024-02-04T14:22:15.143435Z"
    }
   },
   "outputs": [],
   "source": [
    "import os\n",
    "\n",
    "from llama_index.vector_stores import AstraDBVectorStore\n",
    "from llama_index import (\n",
    "    VectorStoreIndex,\n",
    "    SimpleDirectoryReader,\n",
    "    StorageContext,\n",
    "    Document,\n",
    ")\n",
    "from llama_index.llama_dataset import download_llama_dataset\n",
    "from dotenv import load_dotenv, find_dotenv"
   ]
  },
  {
   "cell_type": "code",
   "execution_count": 8,
   "outputs": [
    {
     "data": {
      "text/plain": "True"
     },
     "execution_count": 8,
     "metadata": {},
     "output_type": "execute_result"
    }
   ],
   "source": [
    "load_dotenv(find_dotenv())"
   ],
   "metadata": {
    "collapsed": false,
    "ExecuteTime": {
     "end_time": "2024-02-04T14:22:15.154326Z",
     "start_time": "2024-02-04T14:22:15.148357Z"
    }
   },
   "id": "7254225cb4de0bc5"
  },
  {
   "cell_type": "code",
   "execution_count": 9,
   "outputs": [],
   "source": [
    "from app.engine.loader import get_documents\n",
    "\n",
    "docs = get_documents()"
   ],
   "metadata": {
    "collapsed": false,
    "ExecuteTime": {
     "end_time": "2024-02-04T14:22:17.177246Z",
     "start_time": "2024-02-04T14:22:17.173456Z"
    }
   },
   "id": "55d3af0ae0b6073c"
  },
  {
   "cell_type": "code",
   "execution_count": 10,
   "outputs": [],
   "source": [
    "from app.engine.context import create_service_context, create_storage_context\n",
    "\n",
    "service_context = create_service_context()  \n",
    "storage_context = create_storage_context()"
   ],
   "metadata": {
    "collapsed": false,
    "ExecuteTime": {
     "end_time": "2024-02-04T14:22:21.527113Z",
     "start_time": "2024-02-04T14:22:19.217633Z"
    }
   },
   "id": "87f0fcfc4d46f96b"
  },
  {
   "cell_type": "code",
   "execution_count": 11,
   "outputs": [],
   "source": [
    "index = VectorStoreIndex.from_documents(\n",
    "    documents=docs,\n",
    "    service_context=service_context,\n",
    "    storage_context=storage_context,\n",
    ")"
   ],
   "metadata": {
    "collapsed": false,
    "ExecuteTime": {
     "end_time": "2024-02-04T14:22:23.604491Z",
     "start_time": "2024-02-04T14:22:22.729814Z"
    }
   },
   "id": "88ad8c862a4f8ae3"
  },
  {
   "cell_type": "code",
   "execution_count": null,
   "outputs": [],
   "source": [
    "engine = index.as_chat_engine(similarity_top_k=5, chat_mode=\"condense_plus_context\")\n",
    "engine.chat(\"What's the integration of llama index?\")"
   ],
   "metadata": {
    "collapsed": false,
    "ExecuteTime": {
     "start_time": "2024-02-04T14:19:01.263501Z"
    }
   },
   "id": "db81af21528fce3"
  },
  {
   "cell_type": "code",
   "execution_count": null,
   "outputs": [],
   "source": [
    "l = index.as_retriever().retrieve(\"What's the integration of llama index?\")"
   ],
   "metadata": {
    "collapsed": false,
    "ExecuteTime": {
     "start_time": "2024-02-04T14:19:01.264412Z"
    }
   },
   "id": "4dad5145d2dd57fb"
  },
  {
   "cell_type": "code",
   "execution_count": null,
   "outputs": [],
   "source": [
    "l"
   ],
   "metadata": {
    "collapsed": false,
    "ExecuteTime": {
     "start_time": "2024-02-04T14:19:01.265051Z"
    }
   },
   "id": "5388376306b7d299"
  },
  {
   "cell_type": "code",
   "execution_count": 9,
   "outputs": [],
   "source": [
    "from llama_index.node_parser import SemanticSplitterNodeParser\n",
    "\n",
    "splitter = SemanticSplitterNodeParser(embed_model=service_context.embed_model)\n",
    "\n",
    "nodes = splitter.get_nodes_from_documents([Document.example()])"
   ],
   "metadata": {
    "collapsed": false,
    "ExecuteTime": {
     "end_time": "2024-02-04T14:09:04.088302Z",
     "start_time": "2024-02-04T14:09:03.738814Z"
    }
   },
   "id": "d67bf0f60f3883d6"
  },
  {
   "cell_type": "code",
   "execution_count": 11,
   "outputs": [
    {
     "name": "stdout",
     "output_type": "stream",
     "text": [
      "\n",
      "Context\n",
      "LLMs are a phenomenal piece of technology for knowledge generation and reasoning.\n",
      "They are pre-trained on large amounts of publicly available data.\n",
      "How do we best augment LLMs with our own private data?\n",
      "We need a comprehensive toolkit to help perform this data augmentation for LLMs.\n",
      "\n",
      "Proposed Solution\n",
      "That's where LlamaIndex comes in. LlamaIndex is a \"data framework\" to help\n",
      "you build LLM  apps. It provides the following tools:\n",
      "\n",
      "Offers data connectors to ingest your existing data sources and data formats\n",
      "(APIs, PDFs, docs, SQL, etc.)\n",
      "Provides ways to structure your data (indices, graphs) so that this data can be\n",
      "easily used with LLMs.\n",
      "Provides an advanced retrieval/query interface over your data:\n",
      "Feed in any LLM input prompt, get back retrieved context and knowledge-augmented output.\n",
      "\n",
      "--------------------------------------------------\n",
      "Allows easy integrations with your outer application framework\n",
      "(e.g. with LangChain, Flask, Docker, ChatGPT, anything else).\n",
      "LlamaIndex provides tools for both beginner users and advanced users.\n",
      "Our high-level API allows beginner users to use LlamaIndex to ingest and\n",
      "query their data in 5 lines of code. Our lower-level APIs allow advanced users to\n",
      "customize and extend any module (data connectors, indices, retrievers, query engines,\n",
      "reranking modules), to fit their needs.\n",
      "\n",
      "--------------------------------------------------\n"
     ]
    }
   ],
   "source": [
    "for node in nodes:\n",
    "    print(node.text)\n",
    "    print(\"-\" * 50)"
   ],
   "metadata": {
    "collapsed": false,
    "ExecuteTime": {
     "end_time": "2024-02-04T14:09:25.086188Z",
     "start_time": "2024-02-04T14:09:25.083125Z"
    }
   },
   "id": "c1427926b447b97d"
  },
  {
   "cell_type": "code",
   "execution_count": 32,
   "outputs": [],
   "source": [
    "\n",
    "from langchain_openai import ChatOpenAI\n",
    "from langchain_core.messages import HumanMessage, SystemMessage\n",
    "from langchain_core.prompts import ChatPromptTemplate, MessagesPlaceholder\n",
    "from langchain_core.output_parsers import StrOutputParser\n",
    "\n",
    "SYSTEM_MESSAGE = \"\"\"\\\n",
    "You are an expert in describing a sequence of continuous frames in a video. Given\n",
    "several frames, provide a alternative text corresponding to the content, action, phenomenon, or\n",
    "event in the video. The text should be detailed and descriptive, and should be able to convey the\n",
    "content of the video to a person who is unable to see it. 1 paragraph maximum.\n",
    "\"\"\"\n",
    "\n",
    "\n",
    "def get_frames_to_text_chain():\n",
    "    vision_llm = ChatOpenAI(\n",
    "        model_name=\"gpt-4-vision-preview\",\n",
    "        max_tokens=4096,\n",
    "    )\n",
    "\n",
    "    prompt = ChatPromptTemplate.from_messages(\n",
    "        [\n",
    "            SystemMessage(content=SYSTEM_MESSAGE),\n",
    "            MessagesPlaceholder(variable_name=\"frames\")\n",
    "        ]\n",
    "    )\n",
    "\n",
    "    return prompt | vision_llm | StrOutputParser()"
   ],
   "metadata": {
    "collapsed": false,
    "ExecuteTime": {
     "end_time": "2024-02-04T14:57:03.574777Z",
     "start_time": "2024-02-04T14:57:03.572928Z"
    }
   },
   "id": "992d3f361faf74a7"
  },
  {
   "cell_type": "code",
   "execution_count": 33,
   "outputs": [],
   "source": [
    "chain = get_frames_to_text_chain()"
   ],
   "metadata": {
    "collapsed": false,
    "ExecuteTime": {
     "end_time": "2024-02-04T14:57:03.910612Z",
     "start_time": "2024-02-04T14:57:03.901317Z"
    }
   },
   "id": "69b3bcae8e5bf4b0"
  },
  {
   "cell_type": "code",
   "execution_count": 34,
   "outputs": [],
   "source": [
    "import base64\n",
    "\n",
    "def encode_image(image_path):\n",
    "  with open(image_path, \"rb\") as image_file:\n",
    "    return base64.b64encode(image_file.read()).decode('utf-8')"
   ],
   "metadata": {
    "collapsed": false,
    "ExecuteTime": {
     "end_time": "2024-02-04T14:57:04.226869Z",
     "start_time": "2024-02-04T14:57:04.220538Z"
    }
   },
   "id": "e62ad76d1edf2e31"
  },
  {
   "cell_type": "code",
   "execution_count": 35,
   "outputs": [],
   "source": [
    "image_path = \"data/frames/1.jpeg\"\n",
    "encoded_images = [\n",
    "    encode_image(f\"data/frames/{i}.jpeg\")\n",
    "    for i in range(1, 8)\n",
    "]"
   ],
   "metadata": {
    "collapsed": false,
    "ExecuteTime": {
     "end_time": "2024-02-04T14:57:04.558350Z",
     "start_time": "2024-02-04T14:57:04.555338Z"
    }
   },
   "id": "933501c5de6d8cc0"
  },
  {
   "cell_type": "code",
   "execution_count": 36,
   "outputs": [
    {
     "data": {
      "text/plain": "\"The series of frames depicts a sequence from an animated or CGI-rendered video, likely from a film or video game with a dark and mysterious aesthetic. The first frame shows a close-up of a spinning top, blurring at its edges due to rapid rotation against a dark background. The second frame transitions to a humanoid figure with a distorted face and elongated features, suggesting either rapid movement or a stylistic choice in the animation, against a similarly dark backdrop.\\n\\nThe next three frames focus on a character wearing a green coat and possessing a skeletal, cybernetic arm structure. The lighting is dramatic, with hard light casting strong shadows and highlighting the character's intense expression and dynamic pose. The character appears to be in motion, with one frame capturing them mid-stride and another showing them in an action pose, possibly preparing to engage in combat or perform a significant action.\\n\\nThe penultimate frame shows two characters standing atop tall, slender pedestals or structures, with one character reaching out towards the other. The background is dark with shafts of light cutting through, creating a tense and atmospheric scene.\\n\\nThe final frame reveals a complex mechanical structure with smoke and haze surrounding it, hinting at an industrial setting or a machine in operation. The intricate design of the machinery suggests advanced technology, possibly steampunk-inspired, and the overall tone of the sequence is one of suspense and impending action or revelation.\""
     },
     "execution_count": 36,
     "metadata": {},
     "output_type": "execute_result"
    }
   ],
   "source": [
    "chain.invoke({\n",
    "    \"frames\": [\n",
    "        HumanMessage(content=[\n",
    "            {\"type\": \"text\", \"text\": \"Provide a detailed description of the following frames:\"},\n",
    "            *[\n",
    "                {\n",
    "                    \"type\": \"image_url\",\n",
    "                    \"image_url\": {\n",
    "                        \"url\": f\"data:image/jpeg;base64,{encoded_image}\",\n",
    "                        \"detail\": \"auto\",\n",
    "                    },\n",
    "                }\n",
    "                for encoded_image in encoded_images\n",
    "            ]\n",
    "        ]),\n",
    "    ]\n",
    "})"
   ],
   "metadata": {
    "collapsed": false,
    "ExecuteTime": {
     "end_time": "2024-02-04T14:57:20.818549Z",
     "start_time": "2024-02-04T14:57:07.569189Z"
    }
   },
   "id": "5d8fad5de1fa0d45"
  },
  {
   "cell_type": "code",
   "execution_count": null,
   "outputs": [],
   "source": [],
   "metadata": {
    "collapsed": false
   },
   "id": "f3a9fea1b94a649f"
  }
 ],
 "metadata": {
  "kernelspec": {
   "display_name": "Python 3",
   "language": "python",
   "name": "python3"
  },
  "language_info": {
   "codemirror_mode": {
    "name": "ipython",
    "version": 2
   },
   "file_extension": ".py",
   "mimetype": "text/x-python",
   "name": "python",
   "nbconvert_exporter": "python",
   "pygments_lexer": "ipython2",
   "version": "2.7.6"
  }
 },
 "nbformat": 4,
 "nbformat_minor": 5
}
