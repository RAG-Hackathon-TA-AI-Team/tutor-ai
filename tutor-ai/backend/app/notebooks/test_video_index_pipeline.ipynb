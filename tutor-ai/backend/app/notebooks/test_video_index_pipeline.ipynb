{
 "cells": [
  {
   "cell_type": "code",
   "execution_count": 1,
   "id": "initial_id",
   "metadata": {
    "collapsed": true,
    "ExecuteTime": {
     "end_time": "2024-02-04T23:38:10.048663Z",
     "start_time": "2024-02-04T23:38:09.226801Z"
    }
   },
   "outputs": [],
   "source": [
    "import os\n",
    "\n",
    "from llama_index.vector_stores import AstraDBVectorStore\n",
    "from llama_index import (\n",
    "    VectorStoreIndex,\n",
    "    SimpleDirectoryReader,\n",
    "    StorageContext,\n",
    "    Document,\n",
    ")\n",
    "from llama_index.llama_dataset import download_llama_dataset\n",
    "from dotenv import load_dotenv, find_dotenv"
   ]
  },
  {
   "cell_type": "code",
   "execution_count": 2,
   "outputs": [
    {
     "data": {
      "text/plain": "True"
     },
     "execution_count": 2,
     "metadata": {},
     "output_type": "execute_result"
    }
   ],
   "source": [
    "load_dotenv(find_dotenv())"
   ],
   "metadata": {
    "collapsed": false,
    "ExecuteTime": {
     "end_time": "2024-02-04T23:38:10.053943Z",
     "start_time": "2024-02-04T23:38:10.048955Z"
    }
   },
   "id": "7254225cb4de0bc5"
  },
  {
   "cell_type": "code",
   "execution_count": 3,
   "outputs": [],
   "source": [
    "from app.engine.loader import get_documents\n",
    "\n",
    "docs = get_documents(\"../../videos\")"
   ],
   "metadata": {
    "collapsed": false,
    "ExecuteTime": {
     "end_time": "2024-02-04T23:38:10.582178Z",
     "start_time": "2024-02-04T23:38:10.577572Z"
    }
   },
   "id": "55d3af0ae0b6073c"
  },
  {
   "cell_type": "markdown",
   "source": [],
   "metadata": {
    "collapsed": false
   },
   "id": "5883ca0a90e85345"
  },
  {
   "cell_type": "code",
   "execution_count": 4,
   "outputs": [],
   "source": [
    "from app.engine.context import create_service_context, create_storage_context\n",
    "\n",
    "service_context = create_service_context()  \n",
    "storage_context = create_storage_context()"
   ],
   "metadata": {
    "collapsed": false,
    "ExecuteTime": {
     "end_time": "2024-02-04T23:38:27.630655Z",
     "start_time": "2024-02-04T23:38:12.165724Z"
    }
   },
   "id": "87f0fcfc4d46f96b"
  },
  {
   "cell_type": "code",
   "execution_count": 5,
   "outputs": [],
   "source": [
    "index = VectorStoreIndex.from_documents(\n",
    "    documents=docs,\n",
    "    service_context=service_context,\n",
    "    storage_context=storage_context,\n",
    ")"
   ],
   "metadata": {
    "collapsed": false,
    "ExecuteTime": {
     "end_time": "2024-02-04T23:38:46.003647Z",
     "start_time": "2024-02-04T23:38:40.381626Z"
    }
   },
   "id": "88ad8c862a4f8ae3"
  },
  {
   "cell_type": "code",
   "execution_count": 6,
   "outputs": [],
   "source": [
    "engine = index.as_chat_engine(similarity_top_k=5, chat_mode=\"condense_plus_context\")\n",
    "result = engine.chat(\"how to take photo with good exposure\")"
   ],
   "metadata": {
    "collapsed": false,
    "ExecuteTime": {
     "end_time": "2024-02-04T23:39:14.928304Z",
     "start_time": "2024-02-04T23:38:57.795943Z"
    }
   },
   "id": "db81af21528fce3"
  },
  {
   "cell_type": "code",
   "execution_count": 7,
   "outputs": [
    {
     "data": {
      "text/plain": "[NodeWithScore(node=TextNode(id_='a3c072db-e81c-4fd4-8434-2c390188a31d', embedding=None, metadata={'type': 'transcript', 'video_path': 'app/videoData/y7HrM-fk_Rc_3240_3420.mp4', 'start_time': 3240, 'end_time': 3420, 'text': \"for now just think about it as light per unit area falling on the sensor it's controlled by the aperture talk about that in a moment and then exposure time is seconds controlled by the shutter so those are two the two critical variables for controlling the exposure of your picture so if we look back at our single end reflex camera there is a mirror in there and you saw when I took a picture the mirror flipped out of the way the light went to the film which is now replaced by a digital sensor and then there is this aperture here which can close and open that's that's where the app numbers come from which will define a moment they're typically right in the middle of a bunch of lenses that are kind of symmetrical on both sides we'll talk about that next week and then there's a shutter and\"}, excluded_embed_metadata_keys=['type', 'video_path', 'start_time', 'end_time', 'frames', 'text'], excluded_llm_metadata_keys=[], relationships={}, text=\"for now just think about it as light per unit area falling on the sensor it's controlled by the aperture talk about that in a moment and then exposure time is seconds controlled by the shutter so those are two the two critical variables for controlling the exposure of your picture so if we look back at our single end reflex camera there is a mirror in there and you saw when I took a picture the mirror flipped out of the way the light went to the film which is now replaced by a digital sensor and then there is this aperture here which can close and open that's that's where the app numbers come from which will define a moment they're typically right in the middle of a bunch of lenses that are kind of symmetrical on both sides we'll talk about that next week and then there's a shutter and\", start_char_idx=None, end_char_idx=None, text_template='{metadata_str}\\n\\n{content}', metadata_template='{key}: {value}', metadata_seperator='\\n'), score=0.7335977),\n NodeWithScore(node=TextNode(id_='0a9403e1-19df-46ae-b6ab-27d3180256ad', embedding=None, metadata={'type': 'transcript', 'video_path': 'app/videoData/y7HrM-fk_Rc_3420_3600.mp4', 'start_time': 3420, 'end_time': 3600, 'text': \"exposure ready Oh No let me try turning on the mic ready huh now that sounded kind of weird it did like several things there it's really quite complicated in these mirrorless interchangeable-lens cameras because right now the shutter is open why well because the light has to reach the sensor so you can see something on the viewfinder because there's no optical viewfinder as there is on these things there's no bump on the top so when you press the shutter first have to close that get ready to take a picture\"}, excluded_embed_metadata_keys=['type', 'video_path', 'start_time', 'end_time', 'frames', 'text'], excluded_llm_metadata_keys=[], relationships={}, text=\"exposure ready Oh No let me try turning on the mic ready huh now that sounded kind of weird it did like several things there it's really quite complicated in these mirrorless interchangeable-lens cameras because right now the shutter is open why well because the light has to reach the sensor so you can see something on the viewfinder because there's no optical viewfinder as there is on these things there's no bump on the top so when you press the shutter first have to close that get ready to take a picture\", start_char_idx=None, end_char_idx=None, text_template='{metadata_str}\\n\\n{content}', metadata_template='{key}: {value}', metadata_seperator='\\n'), score=0.7328244),\n NodeWithScore(node=TextNode(id_='adc984ba-620c-48aa-a6d8-33e6bd652c88', embedding=None, metadata={'type': 'transcript', 'video_path': 'app/videoData/y7HrM-fk_Rc_3780_3960.mp4', 'start_time': 3780, 'end_time': 3960, 'text': \"pixels saturate meaning they fill up with light and they can't store anymore light that's called saturation we'll talk about that when we talk about noise models and sensors later on in the course it's denoted in fractions of a second typically a doubling scale be full abundant that's historical just means it's open until you release the shutter we can handle the camera down to about a sixtieth of a second so a slightly more accurate formula is to say the shortest exposure is 1 over the focal length so I have a electron stabilization where we'll derive that geometric light for now let me just state that that if you go to a telephoto lens you better take a shorter exposure so one hundred and eightieth of a second one second 182 a second for 180 millimeter lens and\"}, excluded_embed_metadata_keys=['type', 'video_path', 'start_time', 'end_time', 'frames', 'text'], excluded_llm_metadata_keys=[], relationships={}, text=\"pixels saturate meaning they fill up with light and they can't store anymore light that's called saturation we'll talk about that when we talk about noise models and sensors later on in the course it's denoted in fractions of a second typically a doubling scale be full abundant that's historical just means it's open until you release the shutter we can handle the camera down to about a sixtieth of a second so a slightly more accurate formula is to say the shortest exposure is 1 over the focal length so I have a electron stabilization where we'll derive that geometric light for now let me just state that that if you go to a telephoto lens you better take a shorter exposure so one hundred and eightieth of a second one second 182 a second for 180 millimeter lens and\", start_char_idx=None, end_char_idx=None, text_template='{metadata_str}\\n\\n{content}', metadata_template='{key}: {value}', metadata_seperator='\\n'), score=0.72171986),\n NodeWithScore(node=TextNode(id_='370daf06-b583-410e-954c-63580b7e3840', embedding=None, metadata={'type': 'transcript', 'video_path': 'app/videoData/y7HrM-fk_Rc_3240_3420.mp4', 'start_time': 3240, 'end_time': 3420, 'text': \"I'm looking at my Dory I don't see any questions feel free remote audience to ask questions on the dory I think the Dory is working ok so let's go on and let's talk about exposure okay so I don't like this formula because it's got kind of wrong letters in it but it's the standard formula it says exposure which is H is irradiance which is e I'm sorry I make this up times time so Arabians is the amount of light falling on a unit area of the sensor per second so I'll actually give it units later on in the course we'll talk about lumens per meter squared but for now just think about it as light per unit area falling on the sensor it's controlled by the aperture talk about that in a moment and then exposure time is\"}, excluded_embed_metadata_keys=['type', 'video_path', 'start_time', 'end_time', 'frames', 'text'], excluded_llm_metadata_keys=[], relationships={}, text=\"I'm looking at my Dory I don't see any questions feel free remote audience to ask questions on the dory I think the Dory is working ok so let's go on and let's talk about exposure okay so I don't like this formula because it's got kind of wrong letters in it but it's the standard formula it says exposure which is H is irradiance which is e I'm sorry I make this up times time so Arabians is the amount of light falling on a unit area of the sensor per second so I'll actually give it units later on in the course we'll talk about lumens per meter squared but for now just think about it as light per unit area falling on the sensor it's controlled by the aperture talk about that in a moment and then exposure time is\", start_char_idx=None, end_char_idx=None, text_template='{metadata_str}\\n\\n{content}', metadata_template='{key}: {value}', metadata_seperator='\\n'), score=0.7213844),\n NodeWithScore(node=TextNode(id_='48e68984-139e-4541-ad9c-106e83281bdd', embedding=None, metadata={'type': 'transcript', 'video_path': 'app/videoData/y7HrM-fk_Rc_3780_3960.mp4', 'start_time': 3780, 'end_time': 3960, 'text': \"telephoto lens you better take a shorter exposure so one hundred and eightieth of a second one second 182 a second for 180 millimeter lens and so for example and you have to use the 35 millimeter equivalent so that shot that I showed you before in Paris was an 90 millimeter lens on a 2x crop sensor it was this Micro Four Thirds camera and so I would have to multiply 90 by to get 180 so I should take the picture without 180 at 2nd of a second if I'm going to handhold it question what's it um yeah and why have I been teaching this course for six years and no one has pointed that out before thank you if you see an error in my sides believe let me know right oh yeah yeah\"}, excluded_embed_metadata_keys=['type', 'video_path', 'start_time', 'end_time', 'frames', 'text'], excluded_llm_metadata_keys=[], relationships={}, text=\"telephoto lens you better take a shorter exposure so one hundred and eightieth of a second one second 182 a second for 180 millimeter lens and so for example and you have to use the 35 millimeter equivalent so that shot that I showed you before in Paris was an 90 millimeter lens on a 2x crop sensor it was this Micro Four Thirds camera and so I would have to multiply 90 by to get 180 so I should take the picture without 180 at 2nd of a second if I'm going to handhold it question what's it um yeah and why have I been teaching this course for six years and no one has pointed that out before thank you if you see an error in my sides believe let me know right oh yeah yeah\", start_char_idx=None, end_char_idx=None, text_template='{metadata_str}\\n\\n{content}', metadata_template='{key}: {value}', metadata_seperator='\\n'), score=0.7197031)]"
     },
     "execution_count": 7,
     "metadata": {},
     "output_type": "execute_result"
    }
   ],
   "source": [
    "result.source_nodes"
   ],
   "metadata": {
    "collapsed": false,
    "ExecuteTime": {
     "end_time": "2024-02-04T23:39:16.586260Z",
     "start_time": "2024-02-04T23:39:16.581859Z"
    }
   },
   "id": "5388376306b7d299"
  },
  {
   "cell_type": "code",
   "execution_count": 3,
   "outputs": [
    {
     "ename": "Exception",
     "evalue": "StorageContext is empty - call 'python app/engine/generate.py' to generate the storage first",
     "output_type": "error",
     "traceback": [
      "\u001B[0;31m---------------------------------------------------------------------------\u001B[0m",
      "\u001B[0;31mException\u001B[0m                                 Traceback (most recent call last)",
      "Cell \u001B[0;32mIn[3], line 3\u001B[0m\n\u001B[1;32m      1\u001B[0m \u001B[38;5;28;01mfrom\u001B[39;00m \u001B[38;5;21;01mapp\u001B[39;00m\u001B[38;5;21;01m.\u001B[39;00m\u001B[38;5;21;01mengine\u001B[39;00m\u001B[38;5;21;01m.\u001B[39;00m\u001B[38;5;21;01mindex\u001B[39;00m \u001B[38;5;28;01mimport\u001B[39;00m get_chat_engine\n\u001B[0;32m----> 3\u001B[0m engine \u001B[38;5;241m=\u001B[39m \u001B[43mget_chat_engine\u001B[49m\u001B[43m(\u001B[49m\u001B[43m)\u001B[49m\n",
      "File \u001B[0;32m~/Documents/GitHub/tutor-ai/tutor-ai/backend/app/engine/index.py:19\u001B[0m, in \u001B[0;36mget_chat_engine\u001B[0;34m()\u001B[0m\n\u001B[1;32m     17\u001B[0m \u001B[38;5;66;03m# check if storage already exists\u001B[39;00m\n\u001B[1;32m     18\u001B[0m \u001B[38;5;28;01mif\u001B[39;00m \u001B[38;5;129;01mnot\u001B[39;00m os\u001B[38;5;241m.\u001B[39mpath\u001B[38;5;241m.\u001B[39mexists(STORAGE_DIR):\n\u001B[0;32m---> 19\u001B[0m     \u001B[38;5;28;01mraise\u001B[39;00m \u001B[38;5;167;01mException\u001B[39;00m(\n\u001B[1;32m     20\u001B[0m         \u001B[38;5;124m\"\u001B[39m\u001B[38;5;124mStorageContext is empty - call \u001B[39m\u001B[38;5;124m'\u001B[39m\u001B[38;5;124mpython app/engine/generate.py\u001B[39m\u001B[38;5;124m'\u001B[39m\u001B[38;5;124m to generate the storage first\u001B[39m\u001B[38;5;124m\"\u001B[39m\n\u001B[1;32m     21\u001B[0m     )\n\u001B[1;32m     22\u001B[0m logger \u001B[38;5;241m=\u001B[39m logging\u001B[38;5;241m.\u001B[39mgetLogger(\u001B[38;5;124m\"\u001B[39m\u001B[38;5;124muvicorn\u001B[39m\u001B[38;5;124m\"\u001B[39m)\n\u001B[1;32m     23\u001B[0m \u001B[38;5;66;03m# load the existing index\u001B[39;00m\n",
      "\u001B[0;31mException\u001B[0m: StorageContext is empty - call 'python app/engine/generate.py' to generate the storage first"
     ]
    }
   ],
   "source": [
    "from app.engine.index import get_chat_engine\n",
    "\n",
    "engine = get_chat_engine()"
   ],
   "metadata": {
    "collapsed": false,
    "ExecuteTime": {
     "end_time": "2024-02-04T23:18:58.805465Z",
     "start_time": "2024-02-04T23:18:57.635032Z"
    }
   },
   "id": "f3a9fea1b94a649f"
  },
  {
   "cell_type": "code",
   "execution_count": null,
   "outputs": [],
   "source": [
    "engine"
   ],
   "metadata": {
    "collapsed": false,
    "ExecuteTime": {
     "start_time": "2024-02-04T23:11:29.752176Z"
    }
   },
   "id": "427b2873653bc34a"
  },
  {
   "cell_type": "code",
   "execution_count": null,
   "outputs": [],
   "source": [],
   "metadata": {
    "collapsed": false
   },
   "id": "2f3a7845a9427e74"
  }
 ],
 "metadata": {
  "kernelspec": {
   "display_name": "Python 3",
   "language": "python",
   "name": "python3"
  },
  "language_info": {
   "codemirror_mode": {
    "name": "ipython",
    "version": 2
   },
   "file_extension": ".py",
   "mimetype": "text/x-python",
   "name": "python",
   "nbconvert_exporter": "python",
   "pygments_lexer": "ipython2",
   "version": "2.7.6"
  }
 },
 "nbformat": 4,
 "nbformat_minor": 5
}
