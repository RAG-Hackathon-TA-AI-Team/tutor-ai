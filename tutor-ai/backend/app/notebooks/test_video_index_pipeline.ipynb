{
 "cells": [
  {
   "cell_type": "code",
   "execution_count": 1,
   "id": "initial_id",
   "metadata": {
    "collapsed": true,
    "ExecuteTime": {
     "end_time": "2024-02-04T13:14:18.355960Z",
     "start_time": "2024-02-04T13:14:17.531928Z"
    }
   },
   "outputs": [],
   "source": [
    "import os\n",
    "\n",
    "from llama_index.vector_stores import AstraDBVectorStore\n",
    "from llama_index import (\n",
    "    VectorStoreIndex,\n",
    "    SimpleDirectoryReader,\n",
    "    StorageContext,\n",
    ")\n",
    "from llama_index.llama_dataset import download_llama_dataset\n",
    "from dotenv import load_dotenv"
   ]
  },
  {
   "cell_type": "code",
   "execution_count": 2,
   "outputs": [
    {
     "data": {
      "text/plain": "True"
     },
     "execution_count": 2,
     "metadata": {},
     "output_type": "execute_result"
    }
   ],
   "source": [
    "load_dotenv()"
   ],
   "metadata": {
    "collapsed": false,
    "ExecuteTime": {
     "end_time": "2024-02-04T13:14:25.334465Z",
     "start_time": "2024-02-04T13:14:25.326893Z"
    }
   },
   "id": "7254225cb4de0bc5"
  },
  {
   "cell_type": "code",
   "execution_count": 3,
   "outputs": [],
   "source": [
    "from app.engine.loader import get_documents\n",
    "\n",
    "docs = get_documents()"
   ],
   "metadata": {
    "collapsed": false,
    "ExecuteTime": {
     "end_time": "2024-02-04T13:14:55.080551Z",
     "start_time": "2024-02-04T13:14:55.067010Z"
    }
   },
   "id": "55d3af0ae0b6073c"
  },
  {
   "cell_type": "code",
   "execution_count": 5,
   "outputs": [
    {
     "data": {
      "text/plain": "Document(id_='739dcb14-c149-4750-a020-68f71f3c1fa7', embedding=None, metadata={'type': <VideoMetaType.TRANSCRIPT: 'transcript'>, 'video_path': './video/example.mp4', 'start_time': 0.0, 'end_time': 10.0, 'text': 'My name is John'}, excluded_embed_metadata_keys=[], excluded_llm_metadata_keys=[], relationships={}, text='My name is John', start_char_idx=None, end_char_idx=None, text_template='{metadata_str}\\n\\n{content}', metadata_template='{key}: {value}', metadata_seperator='\\n')"
     },
     "execution_count": 5,
     "metadata": {},
     "output_type": "execute_result"
    }
   ],
   "source": [
    "docs[0]"
   ],
   "metadata": {
    "collapsed": false,
    "ExecuteTime": {
     "end_time": "2024-02-04T13:15:00.121907Z",
     "start_time": "2024-02-04T13:15:00.119285Z"
    }
   },
   "id": "eb339645ee0cd9e9"
  },
  {
   "cell_type": "code",
   "execution_count": null,
   "outputs": [],
   "source": [],
   "metadata": {
    "collapsed": false
   },
   "id": "87f0fcfc4d46f96b"
  }
 ],
 "metadata": {
  "kernelspec": {
   "display_name": "Python 3",
   "language": "python",
   "name": "python3"
  },
  "language_info": {
   "codemirror_mode": {
    "name": "ipython",
    "version": 2
   },
   "file_extension": ".py",
   "mimetype": "text/x-python",
   "name": "python",
   "nbconvert_exporter": "python",
   "pygments_lexer": "ipython2",
   "version": "2.7.6"
  }
 },
 "nbformat": 4,
 "nbformat_minor": 5
}
