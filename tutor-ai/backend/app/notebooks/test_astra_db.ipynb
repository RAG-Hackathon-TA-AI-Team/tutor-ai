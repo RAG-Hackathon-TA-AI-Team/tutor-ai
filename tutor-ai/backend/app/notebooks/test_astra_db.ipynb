{
 "cells": [
  {
   "cell_type": "code",
   "execution_count": 1,
   "id": "initial_id",
   "metadata": {
    "collapsed": true,
    "ExecuteTime": {
     "end_time": "2024-02-04T12:55:07.109900Z",
     "start_time": "2024-02-04T12:55:04.613440Z"
    }
   },
   "outputs": [],
   "source": [
    "import os\n",
    "\n",
    "from llama_index.vector_stores import AstraDBVectorStore\n",
    "from llama_index import (\n",
    "    VectorStoreIndex,\n",
    "    SimpleDirectoryReader,\n",
    "    StorageContext,\n",
    ")\n",
    "from llama_index.llama_dataset import download_llama_dataset\n",
    "from dotenv import load_dotenv"
   ]
  },
  {
   "cell_type": "code",
   "execution_count": 4,
   "outputs": [],
   "source": [
    "load_dotenv()\n",
    "\n",
    "ASTRA_DB_APPLICATION_TOKEN = os.environ.get(\"ASTRA_DB_APPLICATION_TOKEN\")\n",
    "ASTRA_DB_API_ENDPOINT = os.environ.get(\"ASTRA_DB_API_ENDPOINT\")\n",
    "OPENAI_API_KEY = os.environ.get(\"OPENAI_API_KEY\")"
   ],
   "metadata": {
    "collapsed": false,
    "ExecuteTime": {
     "end_time": "2024-02-04T12:55:09.507335Z",
     "start_time": "2024-02-04T12:55:09.503179Z"
    }
   },
   "id": "b054ff6cdc40619a"
  },
  {
   "cell_type": "code",
   "execution_count": 5,
   "outputs": [
    {
     "name": "stdout",
     "output_type": "stream",
     "text": [
      "Total documents: 1\n",
      "First document, id: d8832b15-40b5-418c-af1a-73ecf712162e\n",
      "First document, hash: 5e01619864093cb27f01c4db4d7d17902e9f5802b77a8e3890d36b4527dc32b8\n",
      "First document, text (250287 characters):\n",
      "====================\n",
      "{\n",
      "    \"examples\": [\n",
      "        {\n",
      "            \"query\": \"In the essay, the author mentions his early experiences with programming. Describe the first computer he used for programming, the language he used, and the challenges he faced.\",\n",
      "            \"query_by\": {\n",
      "                \"model_name\": \"gpt-4\",\n",
      "                \"type\": \"ai\"\n",
      "            },\n",
      "            \"refere ...\n"
     ]
    }
   ],
   "source": [
    "dataset = download_llama_dataset(\n",
    "  \"PaulGrahamEssayDataset\", \"./data\"\n",
    ")\n",
    "\n",
    "documents = SimpleDirectoryReader(\"./data\").load_data()\n",
    "print(f\"Total documents: {len(documents)}\")\n",
    "print(f\"First document, id: {documents[0].doc_id}\")\n",
    "print(f\"First document, hash: {documents[0].hash}\")\n",
    "print(\n",
    "    \"First document, text\"\n",
    "    f\" ({len(documents[0].text)} characters):\\n\"\n",
    "    f\"{'=' * 20}\\n\"\n",
    "    f\"{documents[0].text[:360]} ...\"\n",
    ")"
   ],
   "metadata": {
    "collapsed": false,
    "ExecuteTime": {
     "end_time": "2024-02-04T12:55:30.254967Z",
     "start_time": "2024-02-04T12:55:27.823558Z"
    }
   },
   "id": "d2d2120bf573ca24"
  },
  {
   "cell_type": "code",
   "execution_count": 6,
   "outputs": [],
   "source": [
    "astra_db_store = AstraDBVectorStore(\n",
    "    token=ASTRA_DB_APPLICATION_TOKEN,\n",
    "    api_endpoint=ASTRA_DB_API_ENDPOINT,\n",
    "    collection_name=\"test\",\n",
    "    embedding_dimension=1536,\n",
    ")"
   ],
   "metadata": {
    "collapsed": false,
    "ExecuteTime": {
     "end_time": "2024-02-04T12:56:10.594859Z",
     "start_time": "2024-02-04T12:55:55.930763Z"
    }
   },
   "id": "dc6adac74928c632"
  },
  {
   "cell_type": "code",
   "execution_count": 7,
   "outputs": [],
   "source": [
    "storage_context = StorageContext.from_defaults(vector_store=astra_db_store)\n",
    "\n",
    "index = VectorStoreIndex.from_documents(\n",
    "    documents, storage_context=storage_context\n",
    ")"
   ],
   "metadata": {
    "collapsed": false,
    "ExecuteTime": {
     "end_time": "2024-02-04T12:56:21.008765Z",
     "start_time": "2024-02-04T12:56:14.331855Z"
    }
   },
   "id": "f6cbbc1ec1668bed"
  },
  {
   "cell_type": "code",
   "execution_count": 8,
   "outputs": [
    {
     "name": "stdout",
     "output_type": "stream",
     "text": [
      "Why did the author choose to work on AI?\n",
      "The author chose to work on AI because of two specific influences. The first influence was a novel called \"The Moon is a Harsh Mistress\" by Heinlein, which featured an intelligent computer called Mike. The second influence was a PBS documentary that showed Terry Winograd using SHRDLU, a program that could understand and respond to natural language commands. These two influences sparked the author's interest in AI and made him believe that the development of intelligent computers like Mike and programs like SHRDLU was imminent.\n"
     ]
    }
   ],
   "source": [
    "query_engine = index.as_query_engine()\n",
    "query_string_1 = \"Why did the author choose to work on AI?\"\n",
    "response = query_engine.query(query_string_1)\n",
    "\n",
    "print(query_string_1)\n",
    "print(response.response)"
   ],
   "metadata": {
    "collapsed": false,
    "ExecuteTime": {
     "end_time": "2024-02-04T12:57:52.267058Z",
     "start_time": "2024-02-04T12:57:48.694332Z"
    }
   },
   "id": "678cfe4efd3000bc"
  },
  {
   "cell_type": "code",
   "execution_count": null,
   "outputs": [],
   "source": [],
   "metadata": {
    "collapsed": false
   },
   "id": "3a1b70c4191835cf"
  }
 ],
 "metadata": {
  "kernelspec": {
   "display_name": "Python 3",
   "language": "python",
   "name": "python3"
  },
  "language_info": {
   "codemirror_mode": {
    "name": "ipython",
    "version": 2
   },
   "file_extension": ".py",
   "mimetype": "text/x-python",
   "name": "python",
   "nbconvert_exporter": "python",
   "pygments_lexer": "ipython2",
   "version": "2.7.6"
  }
 },
 "nbformat": 4,
 "nbformat_minor": 5
}
